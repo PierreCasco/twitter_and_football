{
  "nbformat": 4,
  "nbformat_minor": 0,
  "metadata": {
    "colab": {
      "name": "Twitter_and_Football.ipynb",
      "version": "0.3.2",
      "provenance": [],
      "collapsed_sections": [],
      "include_colab_link": true
    },
    "kernelspec": {
      "name": "python3",
      "display_name": "Python 3"
    },
    "accelerator": "GPU"
  },
  "cells": [
    {
      "cell_type": "markdown",
      "metadata": {
        "id": "view-in-github",
        "colab_type": "text"
      },
      "source": [
        "<a href=\"https://colab.research.google.com/github/PierreCasco/twitter_and_football/blob/master/Twitter_and_Football.ipynb\" target=\"_parent\"><img src=\"https://colab.research.google.com/assets/colab-badge.svg\" alt=\"Open In Colab\"/></a>"
      ]
    },
    {
      "cell_type": "code",
      "metadata": {
        "id": "ntEC5ip1swr4",
        "colab_type": "code",
        "colab": {}
      },
      "source": [
        "import pandas as pd\n",
        "import tweepy\n",
        "import jsonpickle"
      ],
      "execution_count": 0,
      "outputs": []
    },
    {
      "cell_type": "code",
      "metadata": {
        "id": "BS_yIoQps9aE",
        "colab_type": "code",
        "colab": {}
      },
      "source": [
        "CONSUMER_KEY = 'BSgqFZrPFuabZcbeee8gOf778'\n",
        "CONSUMER_SECRET = 'D8FbZlY9mjlqGurCCcgT4osp5kNCdy2ZQ7SkfDqZYrZbeFP6sD'\n",
        "OAUTH_TOKEN = '323252972-uKcBf2Us0uUAuSP79P7xwWFAv6WwebgXmYoyVi5L'\n",
        "OAUTH_SECRET = 'QE6tVm7OrcY8MCzCk53b7qFOlSdqxqFPp6bx0KNbofYEv'"
      ],
      "execution_count": 0,
      "outputs": []
    },
    {
      "cell_type": "code",
      "metadata": {
        "id": "3oisRsxKtkyZ",
        "colab_type": "code",
        "colab": {}
      },
      "source": [
        "def oauth_login():\n",
        "  # get the authorization from Twitter and save in the Tweepy package\n",
        "  auth = tweepy.OAuthHandler(CONSUMER_KEY,CONSUMER_SECRET)\n",
        "  auth.set_access_token(OAUTH_TOKEN,OAUTH_SECRET)\n",
        "  tweepy_api = tweepy.API(auth)\n",
        "\n",
        "    # if a null api is returned, give error message\n",
        "  if (not tweepy_api):\n",
        "      print (\"Problem Connecting to API with OAuth\")\n",
        "\n",
        "  # return the Twitter api object that allows access for the Tweepy api functions\n",
        "  return tweepy_api\n",
        "\n",
        "# login to Twitter with extended rate limiting\n",
        "#  must be used with the Tweepy Cursor to wrap the search and enact the waits\n",
        "def appauth_login():\n",
        "  # get the authorization from Twitter and save in the Tweepy package\n",
        "  auth = tweepy.AppAuthHandler(CONSUMER_KEY,CONSUMER_SECRET)\n",
        "  # apparently no need to set the other access tokens\n",
        "  tweepy_api = tweepy.API(auth, wait_on_rate_limit=False, wait_on_rate_limit_notify=True)\n",
        "\n",
        "  # if a null api is returned, give error message\n",
        "  if (not tweepy_api):\n",
        "      print (\"Problem Connecting to API with AppAuth\")\n",
        "\n",
        "  # return the Twitter api object that allows access for the Tweepy api functions\n",
        "  return tweepy_api"
      ],
      "execution_count": 0,
      "outputs": []
    },
    {
      "cell_type": "code",
      "metadata": {
        "id": "YWUPERMqtp6D",
        "colab_type": "code",
        "colab": {
          "base_uri": "https://localhost:8080/",
          "height": 51
        },
        "outputId": "6658607d-af6e-42f7-f781-d4fd5b8fbcdd"
      },
      "source": [
        "if __name__ == '__main__':\n",
        "  tweepy_api = oauth_login()\n",
        "  print (\"Twitter OAuthorization: \", tweepy_api)\n",
        "  tweepy_api = appauth_login()\n",
        "  print (\"Twitter AppAuthorization: \", tweepy_api)"
      ],
      "execution_count": 78,
      "outputs": [
        {
          "output_type": "stream",
          "text": [
            "Twitter OAuthorization:  <tweepy.api.API object at 0x7fbb12ae30b8>\n",
            "Twitter AppAuthorization:  <tweepy.api.API object at 0x7fbb1258aba8>\n"
          ],
          "name": "stdout"
        }
      ]
    },
    {
      "cell_type": "code",
      "metadata": {
        "id": "iiu01IGDxtCq",
        "colab_type": "code",
        "colab": {}
      },
      "source": [
        "def get_save_tweets(filepath, api, query, max_tweets=1000000, lang='en', until='2019-09-05'):\n",
        "\n",
        "    tweetCount = 0\n",
        "\n",
        "    #Open file and save tweets\n",
        "    with open(filepath, 'w') as f:\n",
        "\n",
        "        # Send the query\n",
        "        for tweet in tweepy.Cursor(api.search,q=query,lang=lang).items(max_tweets):         \n",
        "\n",
        "            #Convert to JSON format\n",
        "            f.write(jsonpickle.encode(tweet._json, unpicklable=False) + '\\n')\n",
        "            tweetCount += 1\n",
        "\n",
        "        #Display how many tweets we have collected\n",
        "        print(\"Downloaded {0} tweets\".format(tweetCount)) "
      ],
      "execution_count": 0,
      "outputs": []
    },
    {
      "cell_type": "code",
      "metadata": {
        "id": "HMQCqqquzQ42",
        "colab_type": "code",
        "colab": {}
      },
      "source": [
        "query = '#NFLKickoff OR #ThursdayNightFootball OR #NFL100'\n",
        "\n",
        "# Get those tweets\n",
        "get_save_tweets('tweets.json', tweepy_api, query)"
      ],
      "execution_count": 0,
      "outputs": []
    },
    {
      "cell_type": "code",
      "metadata": {
        "id": "JkCSCC059USj",
        "colab_type": "code",
        "colab": {}
      },
      "source": [
        "def tweets_to_df(path):\n",
        "    \n",
        "    tweets = list(open('tweets.json', 'rt'))\n",
        "    \n",
        "    text = []\n",
        "    month = []\n",
        "    day = []\n",
        "    hour = []\n",
        "    hashtag = []\n",
        "    url = []\n",
        "    favorite = []\n",
        "    reply = []\n",
        "    retweet = []\n",
        "    follower = []\n",
        "    following = []\n",
        "    user = []\n",
        "    screen_name = []\n",
        "\n",
        "    for t in tweets:\n",
        "        t = jsonpickle.decode(t)\n",
        "        \n",
        "        # Text\n",
        "        text.append(t['text'])\n",
        "        \n",
        "        # Decompose date\n",
        "        date = t['created_at']\n",
        "        month.append(date.split(' ')[1])\n",
        "        day.append(date.split(' ')[2])\n",
        "        \n",
        "        time = date.split(' ')[3].split(':')\n",
        "        hour.append(time[0]) \n",
        "\n",
        "        # Has hashtag\n",
        "        if len(t['entities']['hashtags']) == 0:\n",
        "            hashtag.append(0)\n",
        "        else:\n",
        "            hashtag.append(1)\n",
        "            \n",
        "        # Has url\n",
        "        if len(t['entities']['urls']) == 0:\n",
        "            url.append(0)\n",
        "        else:\n",
        "            url.append(1)\n",
        "            \n",
        "        # Number of favs\n",
        "        favorite.append(t['favorite_count'])\n",
        "        \n",
        "        # Is reply?\n",
        "        if t['in_reply_to_status_id'] == None:\n",
        "            reply.append(0)\n",
        "        else:\n",
        "            reply.append(1)       \n",
        "        \n",
        "        # Retweets count\n",
        "        retweet.append(t['retweet_count'])\n",
        "        \n",
        "        # Followers number\n",
        "        follower.append(t['user']['followers_count'])\n",
        "        \n",
        "        # Following number\n",
        "        following.append(t['user']['friends_count'])\n",
        "        \n",
        "        # Add user\n",
        "        user.append(t['user']['name'])\n",
        "\n",
        "        # Add screen name\n",
        "        screen_name.append(t['user']['screen_name'])\n",
        "        \n",
        "    d = {'tweet': text,\n",
        "         'month' : month,\n",
        "         'day': day,\n",
        "         'hour' : hour,\n",
        "         'has_hashtag': hashtag,\n",
        "         'has_url': url,\n",
        "         'fav_count': favorite,\n",
        "         'is_reply': reply,\n",
        "         'retweet_count': retweet,\n",
        "         'followers': follower,\n",
        "         'following' : following,\n",
        "         'user': user,\n",
        "         'screen_name' : screen_name\n",
        "        }\n",
        "    \n",
        "    return pd.DataFrame(data = d)\n",
        "        \n",
        "tweets_df = tweets_to_df('tweets.json')"
      ],
      "execution_count": 0,
      "outputs": []
    },
    {
      "cell_type": "code",
      "metadata": {
        "id": "pXeh8-zCBgcT",
        "colab_type": "code",
        "colab": {
          "base_uri": "https://localhost:8080/",
          "height": 255
        },
        "outputId": "c229bc6d-522c-4f6a-ce5d-043e8660a736"
      },
      "source": [
        "tweets_df.head(5)"
      ],
      "execution_count": 119,
      "outputs": [
        {
          "output_type": "execute_result",
          "data": {
            "text/html": [
              "<div>\n",
              "<style scoped>\n",
              "    .dataframe tbody tr th:only-of-type {\n",
              "        vertical-align: middle;\n",
              "    }\n",
              "\n",
              "    .dataframe tbody tr th {\n",
              "        vertical-align: top;\n",
              "    }\n",
              "\n",
              "    .dataframe thead th {\n",
              "        text-align: right;\n",
              "    }\n",
              "</style>\n",
              "<table border=\"1\" class=\"dataframe\">\n",
              "  <thead>\n",
              "    <tr style=\"text-align: right;\">\n",
              "      <th></th>\n",
              "      <th>tweet</th>\n",
              "      <th>month</th>\n",
              "      <th>day</th>\n",
              "      <th>hour</th>\n",
              "      <th>has_hashtag</th>\n",
              "      <th>has_url</th>\n",
              "      <th>fav_count</th>\n",
              "      <th>is_reply</th>\n",
              "      <th>retweet_count</th>\n",
              "      <th>followers</th>\n",
              "      <th>following</th>\n",
              "      <th>user</th>\n",
              "      <th>screen_name</th>\n",
              "    </tr>\n",
              "  </thead>\n",
              "  <tbody>\n",
              "    <tr>\n",
              "      <th>0</th>\n",
              "      <td>Two Giants...just sayin’ #NFL #NFL100 #NFLHous...</td>\n",
              "      <td>Sep</td>\n",
              "      <td>07</td>\n",
              "      <td>01</td>\n",
              "      <td>1</td>\n",
              "      <td>1</td>\n",
              "      <td>0</td>\n",
              "      <td>0</td>\n",
              "      <td>0</td>\n",
              "      <td>337</td>\n",
              "      <td>498</td>\n",
              "      <td>John Harris Jr.</td>\n",
              "      <td>johnnyjj14</td>\n",
              "    </tr>\n",
              "    <tr>\n",
              "      <th>1</th>\n",
              "      <td>Rewatching this @Packers @ChicagoBears Preseas...</td>\n",
              "      <td>Sep</td>\n",
              "      <td>07</td>\n",
              "      <td>01</td>\n",
              "      <td>1</td>\n",
              "      <td>0</td>\n",
              "      <td>0</td>\n",
              "      <td>0</td>\n",
              "      <td>0</td>\n",
              "      <td>198</td>\n",
              "      <td>1820</td>\n",
              "      <td>Aaron's Stache &amp; Denim</td>\n",
              "      <td>AmbiguousThug</td>\n",
              "    </tr>\n",
              "    <tr>\n",
              "      <th>2</th>\n",
              "      <td>Welcome back!!!! Yes! Yes! Yes! LYFAO and Roll...</td>\n",
              "      <td>Sep</td>\n",
              "      <td>07</td>\n",
              "      <td>01</td>\n",
              "      <td>1</td>\n",
              "      <td>1</td>\n",
              "      <td>0</td>\n",
              "      <td>0</td>\n",
              "      <td>0</td>\n",
              "      <td>539</td>\n",
              "      <td>610</td>\n",
              "      <td>The Guardian Of Chaos</td>\n",
              "      <td>bigdaddyGOC</td>\n",
              "    </tr>\n",
              "    <tr>\n",
              "      <th>3</th>\n",
              "      <td>RT @NBCSports: A goosebump-inducing rendition ...</td>\n",
              "      <td>Sep</td>\n",
              "      <td>07</td>\n",
              "      <td>01</td>\n",
              "      <td>1</td>\n",
              "      <td>0</td>\n",
              "      <td>0</td>\n",
              "      <td>0</td>\n",
              "      <td>1027</td>\n",
              "      <td>1236</td>\n",
              "      <td>5000</td>\n",
              "      <td>Pama Mapa</td>\n",
              "      <td>PamaMapa423</td>\n",
              "    </tr>\n",
              "    <tr>\n",
              "      <th>4</th>\n",
              "      <td>RT @MattAlmond330: Mood when you hear @Lastnam...</td>\n",
              "      <td>Sep</td>\n",
              "      <td>07</td>\n",
              "      <td>01</td>\n",
              "      <td>1</td>\n",
              "      <td>0</td>\n",
              "      <td>0</td>\n",
              "      <td>0</td>\n",
              "      <td>11</td>\n",
              "      <td>621</td>\n",
              "      <td>337</td>\n",
              "      <td>LaQuan White</td>\n",
              "      <td>LaQuan_5</td>\n",
              "    </tr>\n",
              "  </tbody>\n",
              "</table>\n",
              "</div>"
            ],
            "text/plain": [
              "                                               tweet  ...    screen_name\n",
              "0  Two Giants...just sayin’ #NFL #NFL100 #NFLHous...  ...     johnnyjj14\n",
              "1  Rewatching this @Packers @ChicagoBears Preseas...  ...  AmbiguousThug\n",
              "2  Welcome back!!!! Yes! Yes! Yes! LYFAO and Roll...  ...    bigdaddyGOC\n",
              "3  RT @NBCSports: A goosebump-inducing rendition ...  ...    PamaMapa423\n",
              "4  RT @MattAlmond330: Mood when you hear @Lastnam...  ...       LaQuan_5\n",
              "\n",
              "[5 rows x 13 columns]"
            ]
          },
          "metadata": {
            "tags": []
          },
          "execution_count": 119
        }
      ]
    },
    {
      "cell_type": "code",
      "metadata": {
        "id": "1FeiGw5KT57H",
        "colab_type": "code",
        "colab": {
          "base_uri": "https://localhost:8080/",
          "height": 579
        },
        "outputId": "3c7bc485-20f9-47df-b618-bc578bb908d0"
      },
      "source": [
        "from plotnine import *\n",
        "\n",
        "\n",
        "#dodge_text = position_dodge(width=0.9)  \n",
        "\n",
        "(ggplot(tweets_df[tweets_df['fav_count'] > 200],\n",
        "       aes(x='user',y='fav_count')) + \n",
        "       geom_col() + theme(axis_text_x=element_text(rotation=45, hjust=1)) + \n",
        "      ggtitle('Favorited Tweet Account'))"
      ],
      "execution_count": 111,
      "outputs": [
        {
          "output_type": "display_data",
          "data": {
            "image/png": "[encoded data removed]",
            "text/plain": [
              "<Figure size 640x480 with 1 Axes>"
            ]
          },
          "metadata": {
            "tags": []
          }
        },
        {
          "output_type": "execute_result",
          "data": {
            "text/plain": [
              "<ggplot: (-9223363259298242651)>"
            ]
          },
          "metadata": {
            "tags": []
          },
          "execution_count": 111
        }
      ]
    },
    {
      "cell_type": "code",
      "metadata": {
        "id": "sYWclrsYgYOZ",
        "colab_type": "code",
        "colab": {
          "base_uri": "https://localhost:8080/",
          "height": 538
        },
        "outputId": "84dddfcc-8186-4114-ea56-80759808d8e7"
      },
      "source": [
        "(ggplot(tweets_df.sort_values(by='followers',ascending=False).head(5),\n",
        "       aes(x='screen_name',y='followers')) + \n",
        "       geom_col() + theme(axis_text_x=element_text(rotation=45, hjust=1)) +\n",
        "      ggtitle('Top 5 Accounts Being Followed'))"
      ],
      "execution_count": 113,
      "outputs": [
        {
          "output_type": "display_data",
          "data": {
            "image/png": "[encoded data removed]",
            "text/plain": [
              "<Figure size 640x480 with 1 Axes>"
            ]
          },
          "metadata": {
            "tags": []
          }
        },
        {
          "output_type": "execute_result",
          "data": {
            "text/plain": [
              "<ggplot: (-9223363259298258821)>"
            ]
          },
          "metadata": {
            "tags": []
          },
          "execution_count": 113
        }
      ]
    },
    {
      "cell_type": "code",
      "metadata": {
        "id": "W5msoIfytkft",
        "colab_type": "code",
        "colab": {
          "base_uri": "https://localhost:8080/",
          "height": 102
        },
        "outputId": "04f658c5-aa7d-48a3-c3c3-abf36e640d32"
      },
      "source": [
        "# Connect to state population data\n",
        "import io\n",
        "import requests\n",
        "\n",
        "url = \"https://www2.census.gov/programs-surveys/popest/datasets/2010-2018/national/totals/nst-est2018-alldata.csv\"\n",
        "response = requests.get(url).content\n",
        "pop = pd.read_csv(io.StringIO(response.decode('utf-8')))\n",
        "pop.set_index('NAME', inplace=True)\n",
        "pop.drop(['United States', 'Northeast Region', 'Midwest Region', 'South Region', 'West Region', 'Puerto Rico'], inplace=True, axis=0)\n",
        "wi_pop = pop['POPESTIMATE2018']['Wisconsin']\n",
        "il_pop = pop['POPESTIMATE2018']['Illinois']\n",
        "\n",
        "print(\"WI pop: \", wi_pop, sep=\"\")\n",
        "print(\"IL pop: \", il_pop, sep=\"\")\n",
        "\n",
        "# identify tweets in the dataframe that contain the teams that played on that day\n",
        "chi_tweets = tweets_df[tweets_df['tweet'].str.contains(\"(chicago)|(bears)|(chi)\\W\", case=False, regex=True)]\n",
        "gb_tweets = tweets_df[tweets_df['tweet'].str.contains(\"(green)|(bay)|(packers)|(gb)\\W\", case=False, regex=True)]"
      ],
      "execution_count": 114,
      "outputs": [
        {
          "output_type": "stream",
          "text": [
            "WI pop: 5813568\n",
            "IL pop: 12741080\n"
          ],
          "name": "stdout"
        },
        {
          "output_type": "stream",
          "text": [
            "/usr/local/lib/python3.6/dist-packages/ipykernel_launcher.py:16: UserWarning: This pattern has match groups. To actually get the groups, use str.extract.\n",
            "  app.launch_new_instance()\n",
            "/usr/local/lib/python3.6/dist-packages/ipykernel_launcher.py:17: UserWarning: This pattern has match groups. To actually get the groups, use str.extract.\n"
          ],
          "name": "stderr"
        }
      ]
    },
    {
      "cell_type": "code",
      "metadata": {
        "id": "22cbSQHExYd4",
        "colab_type": "code",
        "colab": {
          "base_uri": "https://localhost:8080/",
          "height": 323
        },
        "outputId": "50126061-6f07-4737-de85-5f0526ca5c16"
      },
      "source": [
        "print(\"Tweets where Chicago is mentionede:\")\n",
        "print(\"Number of tweets - \", chi_tweets.shape[0], sep=\"\")\n",
        "chi_tweets.head(5)"
      ],
      "execution_count": 115,
      "outputs": [
        {
          "output_type": "stream",
          "text": [
            "Tweets where Chicago is mentionede:\n",
            "Number of tweets - 462\n"
          ],
          "name": "stdout"
        },
        {
          "output_type": "execute_result",
          "data": {
            "text/html": [
              "<div>\n",
              "<style scoped>\n",
              "    .dataframe tbody tr th:only-of-type {\n",
              "        vertical-align: middle;\n",
              "    }\n",
              "\n",
              "    .dataframe tbody tr th {\n",
              "        vertical-align: top;\n",
              "    }\n",
              "\n",
              "    .dataframe thead th {\n",
              "        text-align: right;\n",
              "    }\n",
              "</style>\n",
              "<table border=\"1\" class=\"dataframe\">\n",
              "  <thead>\n",
              "    <tr style=\"text-align: right;\">\n",
              "      <th></th>\n",
              "      <th>tweet</th>\n",
              "      <th>month</th>\n",
              "      <th>day</th>\n",
              "      <th>hour</th>\n",
              "      <th>has_hashtag</th>\n",
              "      <th>has_url</th>\n",
              "      <th>fav_count</th>\n",
              "      <th>is_reply</th>\n",
              "      <th>retweet_count</th>\n",
              "      <th>followers</th>\n",
              "      <th>following</th>\n",
              "      <th>user</th>\n",
              "      <th>screen_name</th>\n",
              "    </tr>\n",
              "  </thead>\n",
              "  <tbody>\n",
              "    <tr>\n",
              "      <th>1</th>\n",
              "      <td>Rewatching this @Packers @ChicagoBears Preseas...</td>\n",
              "      <td>Sep</td>\n",
              "      <td>07</td>\n",
              "      <td>01</td>\n",
              "      <td>1</td>\n",
              "      <td>0</td>\n",
              "      <td>0</td>\n",
              "      <td>0</td>\n",
              "      <td>0</td>\n",
              "      <td>198</td>\n",
              "      <td>1820</td>\n",
              "      <td>Aaron's Stache &amp; Denim</td>\n",
              "      <td>AmbiguousThug</td>\n",
              "    </tr>\n",
              "    <tr>\n",
              "      <th>6</th>\n",
              "      <td>Check out all of #DaBears fans kicking off #Be...</td>\n",
              "      <td>Sep</td>\n",
              "      <td>07</td>\n",
              "      <td>01</td>\n",
              "      <td>1</td>\n",
              "      <td>1</td>\n",
              "      <td>0</td>\n",
              "      <td>0</td>\n",
              "      <td>0</td>\n",
              "      <td>820</td>\n",
              "      <td>382</td>\n",
              "      <td>Blakeway Panoramas</td>\n",
              "      <td>panoramascom</td>\n",
              "    </tr>\n",
              "    <tr>\n",
              "      <th>9</th>\n",
              "      <td>RT @FitzyGFY: Dear @nfl - we appreciate you pu...</td>\n",
              "      <td>Sep</td>\n",
              "      <td>07</td>\n",
              "      <td>01</td>\n",
              "      <td>1</td>\n",
              "      <td>0</td>\n",
              "      <td>0</td>\n",
              "      <td>0</td>\n",
              "      <td>215</td>\n",
              "      <td>71</td>\n",
              "      <td>362</td>\n",
              "      <td>Steve Valley</td>\n",
              "      <td>stevevals</td>\n",
              "    </tr>\n",
              "    <tr>\n",
              "      <th>13</th>\n",
              "      <td>RT @NFL: A five-sack evening for that @Chicago...</td>\n",
              "      <td>Sep</td>\n",
              "      <td>07</td>\n",
              "      <td>01</td>\n",
              "      <td>1</td>\n",
              "      <td>0</td>\n",
              "      <td>0</td>\n",
              "      <td>0</td>\n",
              "      <td>134</td>\n",
              "      <td>0</td>\n",
              "      <td>8</td>\n",
              "      <td>demitri</td>\n",
              "      <td>demitri55755484</td>\n",
              "    </tr>\n",
              "    <tr>\n",
              "      <th>22</th>\n",
              "      <td>RT @NFL: .@Mtrubisky10 warming up for the #NFL...</td>\n",
              "      <td>Sep</td>\n",
              "      <td>07</td>\n",
              "      <td>01</td>\n",
              "      <td>1</td>\n",
              "      <td>0</td>\n",
              "      <td>0</td>\n",
              "      <td>0</td>\n",
              "      <td>69</td>\n",
              "      <td>318</td>\n",
              "      <td>360</td>\n",
              "      <td>Melissa Jones</td>\n",
              "      <td>lisser6370</td>\n",
              "    </tr>\n",
              "  </tbody>\n",
              "</table>\n",
              "</div>"
            ],
            "text/plain": [
              "                                                tweet  ...      screen_name\n",
              "1   Rewatching this @Packers @ChicagoBears Preseas...  ...    AmbiguousThug\n",
              "6   Check out all of #DaBears fans kicking off #Be...  ...     panoramascom\n",
              "9   RT @FitzyGFY: Dear @nfl - we appreciate you pu...  ...        stevevals\n",
              "13  RT @NFL: A five-sack evening for that @Chicago...  ...  demitri55755484\n",
              "22  RT @NFL: .@Mtrubisky10 warming up for the #NFL...  ...       lisser6370\n",
              "\n",
              "[5 rows x 13 columns]"
            ]
          },
          "metadata": {
            "tags": []
          },
          "execution_count": 115
        }
      ]
    },
    {
      "cell_type": "code",
      "metadata": {
        "id": "_Pwxb1D6ymkg",
        "colab_type": "code",
        "colab": {
          "base_uri": "https://localhost:8080/",
          "height": 306
        },
        "outputId": "6f2f92d7-bd94-472d-f3b8-6a2f9ba63db3"
      },
      "source": [
        "print(\"Tweets where Green Bay is mentioned:\")\n",
        "print(\"Number of tweets - \", gb_tweets.shape[0], sep=\"\")\n",
        "gb_tweets.head(5)"
      ],
      "execution_count": 116,
      "outputs": [
        {
          "output_type": "stream",
          "text": [
            "Tweets where Green Bay is mentioned:\n",
            "Number of tweets - 419\n"
          ],
          "name": "stdout"
        },
        {
          "output_type": "execute_result",
          "data": {
            "text/html": [
              "<div>\n",
              "<style scoped>\n",
              "    .dataframe tbody tr th:only-of-type {\n",
              "        vertical-align: middle;\n",
              "    }\n",
              "\n",
              "    .dataframe tbody tr th {\n",
              "        vertical-align: top;\n",
              "    }\n",
              "\n",
              "    .dataframe thead th {\n",
              "        text-align: right;\n",
              "    }\n",
              "</style>\n",
              "<table border=\"1\" class=\"dataframe\">\n",
              "  <thead>\n",
              "    <tr style=\"text-align: right;\">\n",
              "      <th></th>\n",
              "      <th>tweet</th>\n",
              "      <th>month</th>\n",
              "      <th>day</th>\n",
              "      <th>hour</th>\n",
              "      <th>has_hashtag</th>\n",
              "      <th>has_url</th>\n",
              "      <th>fav_count</th>\n",
              "      <th>is_reply</th>\n",
              "      <th>retweet_count</th>\n",
              "      <th>followers</th>\n",
              "      <th>following</th>\n",
              "      <th>user</th>\n",
              "      <th>screen_name</th>\n",
              "    </tr>\n",
              "  </thead>\n",
              "  <tbody>\n",
              "    <tr>\n",
              "      <th>1</th>\n",
              "      <td>Rewatching this @Packers @ChicagoBears Preseas...</td>\n",
              "      <td>Sep</td>\n",
              "      <td>07</td>\n",
              "      <td>01</td>\n",
              "      <td>1</td>\n",
              "      <td>0</td>\n",
              "      <td>0</td>\n",
              "      <td>0</td>\n",
              "      <td>0</td>\n",
              "      <td>198</td>\n",
              "      <td>1820</td>\n",
              "      <td>Aaron's Stache &amp; Denim</td>\n",
              "      <td>AmbiguousThug</td>\n",
              "    </tr>\n",
              "    <tr>\n",
              "      <th>9</th>\n",
              "      <td>RT @FitzyGFY: Dear @nfl - we appreciate you pu...</td>\n",
              "      <td>Sep</td>\n",
              "      <td>07</td>\n",
              "      <td>01</td>\n",
              "      <td>1</td>\n",
              "      <td>0</td>\n",
              "      <td>0</td>\n",
              "      <td>0</td>\n",
              "      <td>215</td>\n",
              "      <td>71</td>\n",
              "      <td>362</td>\n",
              "      <td>Steve Valley</td>\n",
              "      <td>stevevals</td>\n",
              "    </tr>\n",
              "    <tr>\n",
              "      <th>26</th>\n",
              "      <td>RT @AllEliteHeat: Football season kicks off to...</td>\n",
              "      <td>Sep</td>\n",
              "      <td>07</td>\n",
              "      <td>01</td>\n",
              "      <td>1</td>\n",
              "      <td>0</td>\n",
              "      <td>0</td>\n",
              "      <td>0</td>\n",
              "      <td>7</td>\n",
              "      <td>1</td>\n",
              "      <td>0</td>\n",
              "      <td>🧩</td>\n",
              "      <td>realstevebutler</td>\n",
              "    </tr>\n",
              "    <tr>\n",
              "      <th>40</th>\n",
              "      <td>So I just noticed the #NFLNetwork has the #Bea...</td>\n",
              "      <td>Sep</td>\n",
              "      <td>07</td>\n",
              "      <td>00</td>\n",
              "      <td>1</td>\n",
              "      <td>1</td>\n",
              "      <td>1</td>\n",
              "      <td>0</td>\n",
              "      <td>0</td>\n",
              "      <td>1063</td>\n",
              "      <td>713</td>\n",
              "      <td>𝗡𝗢𝗧 𝗧𝗔𝗞𝗘𝗦 𝗙𝗮𝗻𝘁𝗮𝘀𝘆 𝗙𝗼𝗼𝘁𝗯𝗮𝗹𝗹</td>\n",
              "      <td>NOTTakesFF</td>\n",
              "    </tr>\n",
              "    <tr>\n",
              "      <th>60</th>\n",
              "      <td>RT @packers: The #NFL100 season begins with a ...</td>\n",
              "      <td>Sep</td>\n",
              "      <td>07</td>\n",
              "      <td>00</td>\n",
              "      <td>1</td>\n",
              "      <td>0</td>\n",
              "      <td>0</td>\n",
              "      <td>0</td>\n",
              "      <td>7158</td>\n",
              "      <td>39</td>\n",
              "      <td>96</td>\n",
              "      <td>emerald eyes</td>\n",
              "      <td>NatalieNwavrick</td>\n",
              "    </tr>\n",
              "  </tbody>\n",
              "</table>\n",
              "</div>"
            ],
            "text/plain": [
              "                                                tweet  ...      screen_name\n",
              "1   Rewatching this @Packers @ChicagoBears Preseas...  ...    AmbiguousThug\n",
              "9   RT @FitzyGFY: Dear @nfl - we appreciate you pu...  ...        stevevals\n",
              "26  RT @AllEliteHeat: Football season kicks off to...  ...  realstevebutler\n",
              "40  So I just noticed the #NFLNetwork has the #Bea...  ...       NOTTakesFF\n",
              "60  RT @packers: The #NFL100 season begins with a ...  ...  NatalieNwavrick\n",
              "\n",
              "[5 rows x 13 columns]"
            ]
          },
          "metadata": {
            "tags": []
          },
          "execution_count": 116
        }
      ]
    },
    {
      "cell_type": "code",
      "metadata": {
        "id": "E8mmnHvIzc3B",
        "colab_type": "code",
        "colab": {
          "base_uri": "https://localhost:8080/",
          "height": 105
        },
        "outputId": "53b8b12f-da4c-4dc4-a89c-4d5d7fd0553d"
      },
      "source": [
        "# Print string describing what is found in the population vs tweet analysis.\n",
        "# Include variables in the following order in the String.format() method:\n",
        "#   il_pop\n",
        "#   wi_pop\n",
        "#   chi_tweets.shape[0]\n",
        "#   gb_tweets.shape[0]\n",
        "#   chi_tpc\n",
        "#   gb_tpc\n",
        "#   tpc_dif\n",
        "\n",
        "chi_tpc = chi_tweets.shape[0] / il_pop\n",
        "gb_tpc = gb_tweets.shape[0] / wi_pop\n",
        "tpc_dif = gb_tpc / chi_tpc\n",
        "\n",
        "print(\"The estimated population of Illinois is {:,}, and the estimated population of Wisconsin is {:,}.\\nAt the time of extracting tweets on September 5, 2019, opening day for the NFL's one hundredth season, there were {:,} tweets mentioning the Chicago Bears and {:,} tweets mentioning the Green Bay Packers.\\nThat's a tweet-per-capita rate of {:0.6f} for Illinois and {:0.6f} for Wisconsin. Wisconsin's tweets-per-capita is {:.2f} times greater than Illinois's!\\nThis is unexpected as Illinois's population is so much greater than Wisonsins. This may also highlight both the national following of the Green Bay Packers as well as loyalty to the team across all of Wisconsin.\".format(il_pop, wi_pop, chi_tweets.shape[0], gb_tweets.shape[0], chi_tpc, gb_tpc, tpc_dif))"
      ],
      "execution_count": 118,
      "outputs": [
        {
          "output_type": "stream",
          "text": [
            "The estimated population of Illinois is 12,741,080, and the estimated population of Wisconsin is 5,813,568.\n",
            "At the time of extracting tweets on September 5, 2019, opening day for the NFL's one hundredth season, there were 462 tweets mentioning the Chicago Bears and 419 tweets mentioning the Green Bay Packers.\n",
            "That's a tweet-per-capita rate of 0.000036 for Illinois and 0.000072 for Wisconsin. Wisconsin's tweets-per-capita is 1.99 times greater than Illinois's!\n",
            "This is unexpected as Illinois's population is so much greater than Wisonsins. This may also highlight both the national following of the Green Bay Packers as well as loyalty to the team across all of Wisconsin.\n"
          ],
          "name": "stdout"
        }
      ]
    },
    {
      "cell_type": "code",
      "metadata": {
        "id": "APMPUxY-4_oN",
        "colab_type": "code",
        "colab": {}
      },
      "source": [
        ""
      ],
      "execution_count": 0,
      "outputs": []
    }
  ]
}