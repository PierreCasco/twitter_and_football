{
  "nbformat": 4,
  "nbformat_minor": 0,
  "metadata": {
    "colab": {
      "name": "Twitter_and_Football.ipynb",
      "version": "0.3.2",
      "provenance": [],
      "include_colab_link": true
    },
    "kernelspec": {
      "name": "python3",
      "display_name": "Python 3"
    }
  },
  "cells": [
    {
      "cell_type": "markdown",
      "metadata": {
        "id": "view-in-github",
        "colab_type": "text"
      },
      "source": [
        "<a href=\"https://colab.research.google.com/github/PierreCasco/twitter_and_football/blob/master/Twitter_and_Football.ipynb\" target=\"_parent\"><img src=\"https://colab.research.google.com/assets/colab-badge.svg\" alt=\"Open In Colab\"/></a>"
      ]
    },
    {
      "cell_type": "code",
      "metadata": {
        "id": "ntEC5ip1swr4",
        "colab_type": "code",
        "colab": {}
      },
      "source": [
        "import tweepy"
      ],
      "execution_count": 0,
      "outputs": []
    },
    {
      "cell_type": "code",
      "metadata": {
        "id": "BS_yIoQps9aE",
        "colab_type": "code",
        "colab": {}
      },
      "source": [
        "CONSUMER_KEY = 'aGWJPayGiJNjtp6VspbiRMPMO'\n",
        "CONSUMER_SECRET = '69F1C2TVR9A8lcqfcmcYiTXOrXuUgyKdySQTgS6i48PF9P7eM7'\n",
        "OAUTH_TOKEN = '323252972-LtPGnQLLjTyvHPaB1Kz5btKTpG0RUxu6yxvYGpsp'\n",
        "OAUTH_SECRET = 'v5DaZVTrPUSVTF4X91Xe6fYMQ74tZpUxIqpYoP2mxQwXY'"
      ],
      "execution_count": 0,
      "outputs": []
    },
    {
      "cell_type": "code",
      "metadata": {
        "id": "3oisRsxKtkyZ",
        "colab_type": "code",
        "colab": {}
      },
      "source": [
        "def oauth_login():\n",
        "  # get the authorization from Twitter and save in the Tweepy package\n",
        "  auth = tweepy.OAuthHandler(CONSUMER_KEY,CONSUMER_SECRET)\n",
        "  auth.set_access_token(OAUTH_TOKEN,OAUTH_SECRET)\n",
        "  tweepy_api = tweepy.API(auth)\n",
        "\n",
        "    # if a null api is returned, give error message\n",
        "  if (not tweepy_api):\n",
        "      print (\"Problem Connecting to API with OAuth\")\n",
        "\n",
        "  # return the Twitter api object that allows access for the Tweepy api functions\n",
        "  return tweepy_api\n",
        "\n",
        "# login to Twitter with extended rate limiting\n",
        "#  must be used with the Tweepy Cursor to wrap the search and enact the waits\n",
        "def appauth_login():\n",
        "  # get the authorization from Twitter and save in the Tweepy package\n",
        "  auth = tweepy.AppAuthHandler(CONSUMER_KEY,CONSUMER_SECRET)\n",
        "  # apparently no need to set the other access tokens\n",
        "  tweepy_api = tweepy.API(auth, wait_on_rate_limit=True, wait_on_rate_limit_notify=True)\n",
        "\n",
        "  # if a null api is returned, give error message\n",
        "  if (not tweepy_api):\n",
        "      print (\"Problem Connecting to API with AppAuth\")\n",
        "\n",
        "  # return the Twitter api object that allows access for the Tweepy api functions\n",
        "  return tweepy_api"
      ],
      "execution_count": 0,
      "outputs": []
    },
    {
      "cell_type": "code",
      "metadata": {
        "id": "YWUPERMqtp6D",
        "colab_type": "code",
        "colab": {
          "base_uri": "https://localhost:8080/",
          "height": 51
        },
        "outputId": "c043e274-8c54-4195-af2d-4b7f738ba382"
      },
      "source": [
        "if __name__ == '__main__':\n",
        "  tweepy_api = oauth_login()\n",
        "  print (\"Twitter OAuthorization: \", tweepy_api)\n",
        "  tweepy_api = appauth_login()\n",
        "  print (\"Twitter AppAuthorization: \", tweepy_api)"
      ],
      "execution_count": 5,
      "outputs": [
        {
          "output_type": "stream",
          "text": [
            "Twitter OAuthorization:  <tweepy.api.API object at 0x7f153948f1d0>\n",
            "Twitter AppAuthorization:  <tweepy.api.API object at 0x7f1539ea3f98>\n"
          ],
          "name": "stdout"
        }
      ]
    },
    {
      "cell_type": "code",
      "metadata": {
        "id": "geBsvYKsty4t",
        "colab_type": "code",
        "colab": {}
      },
      "source": [
        ""
      ],
      "execution_count": 0,
      "outputs": []
    }
  ]
}