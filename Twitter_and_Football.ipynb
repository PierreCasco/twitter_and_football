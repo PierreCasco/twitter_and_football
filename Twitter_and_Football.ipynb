{
  "nbformat": 4,
  "nbformat_minor": 0,
  "metadata": {
    "colab": {
      "name": "Twitter_and_Football.ipynb",
      "version": "0.3.2",
      "provenance": [],
      "include_colab_link": true
    },
    "kernelspec": {
      "name": "python3",
      "display_name": "Python 3"
    },
    "accelerator": "GPU"
  },
  "cells": [
    {
      "cell_type": "markdown",
      "metadata": {
        "id": "view-in-github",
        "colab_type": "text"
      },
      "source": [
        "<a href=\"https://colab.research.google.com/github/PierreCasco/twitter_and_football/blob/master/Twitter_and_Football.ipynb\" target=\"_parent\"><img src=\"https://colab.research.google.com/assets/colab-badge.svg\" alt=\"Open In Colab\"/></a>"
      ]
    },
    {
      "cell_type": "code",
      "metadata": {
        "id": "ntEC5ip1swr4",
        "colab_type": "code",
        "colab": {}
      },
      "source": [
        "import pandas as pd\n",
        "import tweepy\n",
        "import jsonpickle"
      ],
      "execution_count": 0,
      "outputs": []
    },
    {
      "cell_type": "code",
      "metadata": {
        "id": "BS_yIoQps9aE",
        "colab_type": "code",
        "colab": {}
      },
      "source": [
        "CONSUMER_KEY = 'aGWJPayGiJNjtp6VspbiRMPMO'\n",
        "CONSUMER_SECRET = '69F1C2TVR9A8lcqfcmcYiTXOrXuUgyKdySQTgS6i48PF9P7eM7'\n",
        "OAUTH_TOKEN = '323252972-LtPGnQLLjTyvHPaB1Kz5btKTpG0RUxu6yxvYGpsp'\n",
        "OAUTH_SECRET = 'v5DaZVTrPUSVTF4X91Xe6fYMQ74tZpUxIqpYoP2mxQwXY'"
      ],
      "execution_count": 0,
      "outputs": []
    },
    {
      "cell_type": "code",
      "metadata": {
        "id": "3oisRsxKtkyZ",
        "colab_type": "code",
        "colab": {}
      },
      "source": [
        "def oauth_login():\n",
        "  # get the authorization from Twitter and save in the Tweepy package\n",
        "  auth = tweepy.OAuthHandler(CONSUMER_KEY,CONSUMER_SECRET)\n",
        "  auth.set_access_token(OAUTH_TOKEN,OAUTH_SECRET)\n",
        "  tweepy_api = tweepy.API(auth)\n",
        "\n",
        "    # if a null api is returned, give error message\n",
        "  if (not tweepy_api):\n",
        "      print (\"Problem Connecting to API with OAuth\")\n",
        "\n",
        "  # return the Twitter api object that allows access for the Tweepy api functions\n",
        "  return tweepy_api\n",
        "\n",
        "# login to Twitter with extended rate limiting\n",
        "#  must be used with the Tweepy Cursor to wrap the search and enact the waits\n",
        "def appauth_login():\n",
        "  # get the authorization from Twitter and save in the Tweepy package\n",
        "  auth = tweepy.AppAuthHandler(CONSUMER_KEY,CONSUMER_SECRET)\n",
        "  # apparently no need to set the other access tokens\n",
        "  tweepy_api = tweepy.API(auth, wait_on_rate_limit=True, wait_on_rate_limit_notify=True)\n",
        "\n",
        "  # if a null api is returned, give error message\n",
        "  if (not tweepy_api):\n",
        "      print (\"Problem Connecting to API with AppAuth\")\n",
        "\n",
        "  # return the Twitter api object that allows access for the Tweepy api functions\n",
        "  return tweepy_api"
      ],
      "execution_count": 0,
      "outputs": []
    },
    {
      "cell_type": "code",
      "metadata": {
        "id": "YWUPERMqtp6D",
        "colab_type": "code",
        "colab": {
          "base_uri": "https://localhost:8080/",
          "height": 51
        },
        "outputId": "280e543f-b94a-4f28-da74-934e622a8c14"
      },
      "source": [
        "if __name__ == '__main__':\n",
        "  tweepy_api = oauth_login()\n",
        "  print (\"Twitter OAuthorization: \", tweepy_api)\n",
        "  tweepy_api = appauth_login()\n",
        "  print (\"Twitter AppAuthorization: \", tweepy_api)"
      ],
      "execution_count": 5,
      "outputs": [
        {
          "output_type": "stream",
          "text": [
            "Twitter OAuthorization:  <tweepy.api.API object at 0x7f4331f30908>\n",
            "Twitter AppAuthorization:  <tweepy.api.API object at 0x7f4348d4c0f0>\n"
          ],
          "name": "stdout"
        }
      ]
    },
    {
      "cell_type": "code",
      "metadata": {
        "id": "iiu01IGDxtCq",
        "colab_type": "code",
        "colab": {}
      },
      "source": [
        "def get_save_tweets(filepath, api, query, max_tweets=1000000, lang='pt'):\n",
        "\n",
        "    tweetCount = 0\n",
        "\n",
        "    #Open file and save tweets\n",
        "    with open(filepath, 'w') as f:\n",
        "\n",
        "        # Send the query\n",
        "        for tweet in tweepy.Cursor(api.search,q=query,lang=lang).items(max_tweets):         \n",
        "\n",
        "            #Convert to JSON format\n",
        "            f.write(jsonpickle.encode(tweet._json, unpicklable=False) + '\\n')\n",
        "            tweetCount += 1\n",
        "\n",
        "        #Display how many tweets we have collected\n",
        "        print(\"Downloaded {0} tweets\".format(tweetCount)) "
      ],
      "execution_count": 0,
      "outputs": []
    },
    {
      "cell_type": "code",
      "metadata": {
        "id": "HMQCqqquzQ42",
        "colab_type": "code",
        "colab": {
          "base_uri": "https://localhost:8080/",
          "height": 34
        },
        "outputId": "3c153902-1ed6-4cd1-b08d-3e743960cad4"
      },
      "source": [
        "query = '#cfb OR #CFB OR #football'\n",
        "\n",
        "# Get those tweets\n",
        "get_save_tweets('tweets.json', tweepy_api, query)"
      ],
      "execution_count": 13,
      "outputs": [
        {
          "output_type": "stream",
          "text": [
            "Downloaded 633 tweets\n"
          ],
          "name": "stdout"
        }
      ]
    },
    {
      "cell_type": "code",
      "metadata": {
        "id": "Zq5j0s9J0A6E",
        "colab_type": "code",
        "colab": {}
      },
      "source": [
        ""
      ],
      "execution_count": 0,
      "outputs": []
    }
  ]
}